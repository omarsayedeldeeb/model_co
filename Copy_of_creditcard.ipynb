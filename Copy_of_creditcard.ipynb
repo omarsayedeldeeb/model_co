{
  "metadata": {
    "kernelspec": {
      "display_name": "Python 3",
      "language": "python",
      "name": "python3"
    },
    "language_info": {
      "name": "python",
      "version": "3.11.11",
      "mimetype": "text/x-python",
      "codemirror_mode": {
        "name": "ipython",
        "version": 3
      },
      "pygments_lexer": "ipython3",
      "nbconvert_exporter": "python",
      "file_extension": ".py"
    },
    "kaggle": {
      "accelerator": "none",
      "dataSources": [
        {
          "sourceId": 32089,
          "sourceType": "datasetVersion",
          "datasetId": 25184
        }
      ],
      "dockerImageVersionId": 31040,
      "isInternetEnabled": true,
      "language": "python",
      "sourceType": "notebook",
      "isGpuEnabled": false
    },
    "colab": {
      "provenance": []
    }
  },
  "nbformat_minor": 0,
  "nbformat": 4,
  "cells": [
    {
      "source": [
        "# IMPORTANT: RUN THIS CELL IN ORDER TO IMPORT YOUR KAGGLE DATA SOURCES,\n",
        "# THEN FEEL FREE TO DELETE THIS CELL.\n",
        "# NOTE: THIS NOTEBOOK ENVIRONMENT DIFFERS FROM KAGGLE'S PYTHON\n",
        "# ENVIRONMENT SO THERE MAY BE MISSING LIBRARIES USED BY YOUR\n",
        "# NOTEBOOK.\n",
        "import kagglehub\n",
        "isaikumar_creditcardfraud_path = kagglehub.dataset_download('isaikumar/creditcardfraud')\n",
        "\n",
        "print('Data source import complete.')\n"
      ],
      "metadata": {
        "id": "e7Psf67Xc6qH"
      },
      "cell_type": "code",
      "outputs": [],
      "execution_count": null
    },
    {
      "cell_type": "code",
      "source": [
        "import pandas as pd\n",
        "import numpy as np\n",
        "from sklearn.model_selection import train_test_split\n",
        "from sklearn.metrics import accuracy_score, confusion_matrix, classification_report\n",
        "from sklearn.linear_model import LogisticRegression"
      ],
      "metadata": {
        "trusted": true,
        "execution": {
          "iopub.status.busy": "2025-07-31T07:42:16.046734Z",
          "iopub.execute_input": "2025-07-31T07:42:16.047066Z",
          "iopub.status.idle": "2025-07-31T07:42:17.2643Z",
          "shell.execute_reply.started": "2025-07-31T07:42:16.047045Z",
          "shell.execute_reply": "2025-07-31T07:42:17.263541Z"
        },
        "id": "EiwzCNcFc6qH"
      },
      "outputs": [],
      "execution_count": null
    },
    {
      "cell_type": "code",
      "source": [
        "df = pd.read_csv(\"/kaggle/input/creditcardfraud/creditcard.csv\")\n",
        "df.head()"
      ],
      "metadata": {
        "trusted": true,
        "execution": {
          "iopub.status.busy": "2025-07-31T07:42:17.265645Z",
          "iopub.execute_input": "2025-07-31T07:42:17.266096Z",
          "iopub.status.idle": "2025-07-31T07:42:22.018088Z",
          "shell.execute_reply.started": "2025-07-31T07:42:17.266064Z",
          "shell.execute_reply": "2025-07-31T07:42:22.017202Z"
        },
        "id": "af9fJxl5c6qI",
        "outputId": "9519f5c9-bdcf-487a-c828-6356b4e2ee2b"
      },
      "outputs": [
        {
          "execution_count": 4,
          "output_type": "execute_result",
          "data": {
            "text/plain": "   Time        V1        V2        V3        V4        V5        V6        V7  \\\n0   0.0 -1.359807 -0.072781  2.536347  1.378155 -0.338321  0.462388  0.239599   \n1   0.0  1.191857  0.266151  0.166480  0.448154  0.060018 -0.082361 -0.078803   \n2   1.0 -1.358354 -1.340163  1.773209  0.379780 -0.503198  1.800499  0.791461   \n3   1.0 -0.966272 -0.185226  1.792993 -0.863291 -0.010309  1.247203  0.237609   \n4   2.0 -1.158233  0.877737  1.548718  0.403034 -0.407193  0.095921  0.592941   \n\n         V8        V9  ...       V21       V22       V23       V24       V25  \\\n0  0.098698  0.363787  ... -0.018307  0.277838 -0.110474  0.066928  0.128539   \n1  0.085102 -0.255425  ... -0.225775 -0.638672  0.101288 -0.339846  0.167170   \n2  0.247676 -1.514654  ...  0.247998  0.771679  0.909412 -0.689281 -0.327642   \n3  0.377436 -1.387024  ... -0.108300  0.005274 -0.190321 -1.175575  0.647376   \n4 -0.270533  0.817739  ... -0.009431  0.798278 -0.137458  0.141267 -0.206010   \n\n        V26       V27       V28  Amount  Class  \n0 -0.189115  0.133558 -0.021053  149.62      0  \n1  0.125895 -0.008983  0.014724    2.69      0  \n2 -0.139097 -0.055353 -0.059752  378.66      0  \n3 -0.221929  0.062723  0.061458  123.50      0  \n4  0.502292  0.219422  0.215153   69.99      0  \n\n[5 rows x 31 columns]",
            "text/html": "<div>\n<style scoped>\n    .dataframe tbody tr th:only-of-type {\n        vertical-align: middle;\n    }\n\n    .dataframe tbody tr th {\n        vertical-align: top;\n    }\n\n    .dataframe thead th {\n        text-align: right;\n    }\n</style>\n<table border=\"1\" class=\"dataframe\">\n  <thead>\n    <tr style=\"text-align: right;\">\n      <th></th>\n      <th>Time</th>\n      <th>V1</th>\n      <th>V2</th>\n      <th>V3</th>\n      <th>V4</th>\n      <th>V5</th>\n      <th>V6</th>\n      <th>V7</th>\n      <th>V8</th>\n      <th>V9</th>\n      <th>...</th>\n      <th>V21</th>\n      <th>V22</th>\n      <th>V23</th>\n      <th>V24</th>\n      <th>V25</th>\n      <th>V26</th>\n      <th>V27</th>\n      <th>V28</th>\n      <th>Amount</th>\n      <th>Class</th>\n    </tr>\n  </thead>\n  <tbody>\n    <tr>\n      <th>0</th>\n      <td>0.0</td>\n      <td>-1.359807</td>\n      <td>-0.072781</td>\n      <td>2.536347</td>\n      <td>1.378155</td>\n      <td>-0.338321</td>\n      <td>0.462388</td>\n      <td>0.239599</td>\n      <td>0.098698</td>\n      <td>0.363787</td>\n      <td>...</td>\n      <td>-0.018307</td>\n      <td>0.277838</td>\n      <td>-0.110474</td>\n      <td>0.066928</td>\n      <td>0.128539</td>\n      <td>-0.189115</td>\n      <td>0.133558</td>\n      <td>-0.021053</td>\n      <td>149.62</td>\n      <td>0</td>\n    </tr>\n    <tr>\n      <th>1</th>\n      <td>0.0</td>\n      <td>1.191857</td>\n      <td>0.266151</td>\n      <td>0.166480</td>\n      <td>0.448154</td>\n      <td>0.060018</td>\n      <td>-0.082361</td>\n      <td>-0.078803</td>\n      <td>0.085102</td>\n      <td>-0.255425</td>\n      <td>...</td>\n      <td>-0.225775</td>\n      <td>-0.638672</td>\n      <td>0.101288</td>\n      <td>-0.339846</td>\n      <td>0.167170</td>\n      <td>0.125895</td>\n      <td>-0.008983</td>\n      <td>0.014724</td>\n      <td>2.69</td>\n      <td>0</td>\n    </tr>\n    <tr>\n      <th>2</th>\n      <td>1.0</td>\n      <td>-1.358354</td>\n      <td>-1.340163</td>\n      <td>1.773209</td>\n      <td>0.379780</td>\n      <td>-0.503198</td>\n      <td>1.800499</td>\n      <td>0.791461</td>\n      <td>0.247676</td>\n      <td>-1.514654</td>\n      <td>...</td>\n      <td>0.247998</td>\n      <td>0.771679</td>\n      <td>0.909412</td>\n      <td>-0.689281</td>\n      <td>-0.327642</td>\n      <td>-0.139097</td>\n      <td>-0.055353</td>\n      <td>-0.059752</td>\n      <td>378.66</td>\n      <td>0</td>\n    </tr>\n    <tr>\n      <th>3</th>\n      <td>1.0</td>\n      <td>-0.966272</td>\n      <td>-0.185226</td>\n      <td>1.792993</td>\n      <td>-0.863291</td>\n      <td>-0.010309</td>\n      <td>1.247203</td>\n      <td>0.237609</td>\n      <td>0.377436</td>\n      <td>-1.387024</td>\n      <td>...</td>\n      <td>-0.108300</td>\n      <td>0.005274</td>\n      <td>-0.190321</td>\n      <td>-1.175575</td>\n      <td>0.647376</td>\n      <td>-0.221929</td>\n      <td>0.062723</td>\n      <td>0.061458</td>\n      <td>123.50</td>\n      <td>0</td>\n    </tr>\n    <tr>\n      <th>4</th>\n      <td>2.0</td>\n      <td>-1.158233</td>\n      <td>0.877737</td>\n      <td>1.548718</td>\n      <td>0.403034</td>\n      <td>-0.407193</td>\n      <td>0.095921</td>\n      <td>0.592941</td>\n      <td>-0.270533</td>\n      <td>0.817739</td>\n      <td>...</td>\n      <td>-0.009431</td>\n      <td>0.798278</td>\n      <td>-0.137458</td>\n      <td>0.141267</td>\n      <td>-0.206010</td>\n      <td>0.502292</td>\n      <td>0.219422</td>\n      <td>0.215153</td>\n      <td>69.99</td>\n      <td>0</td>\n    </tr>\n  </tbody>\n</table>\n<p>5 rows × 31 columns</p>\n</div>"
          },
          "metadata": {}
        }
      ],
      "execution_count": null
    },
    {
      "cell_type": "code",
      "source": [
        "df.isnull().sum().sum()"
      ],
      "metadata": {
        "trusted": true,
        "execution": {
          "iopub.status.busy": "2025-07-31T07:42:22.019096Z",
          "iopub.execute_input": "2025-07-31T07:42:22.019436Z",
          "iopub.status.idle": "2025-07-31T07:42:22.067195Z",
          "shell.execute_reply.started": "2025-07-31T07:42:22.019408Z",
          "shell.execute_reply": "2025-07-31T07:42:22.066156Z"
        },
        "id": "s0vPLh8Cc6qI",
        "outputId": "e909ad12-388d-4e44-c88f-9a40bc2ef260"
      },
      "outputs": [
        {
          "execution_count": 5,
          "output_type": "execute_result",
          "data": {
            "text/plain": "0"
          },
          "metadata": {}
        }
      ],
      "execution_count": null
    },
    {
      "cell_type": "code",
      "source": [
        "df.shape"
      ],
      "metadata": {
        "trusted": true,
        "execution": {
          "iopub.status.busy": "2025-07-31T07:42:22.069378Z",
          "iopub.execute_input": "2025-07-31T07:42:22.070561Z",
          "iopub.status.idle": "2025-07-31T07:42:22.076858Z",
          "shell.execute_reply.started": "2025-07-31T07:42:22.070528Z",
          "shell.execute_reply": "2025-07-31T07:42:22.075941Z"
        },
        "id": "Ss6YqA6Cc6qI",
        "outputId": "be818267-5ca4-4d92-cde3-5a0dd9cc1812"
      },
      "outputs": [
        {
          "execution_count": 6,
          "output_type": "execute_result",
          "data": {
            "text/plain": "(284807, 31)"
          },
          "metadata": {}
        }
      ],
      "execution_count": null
    },
    {
      "cell_type": "code",
      "source": [
        "df['Class'].value_counts(normalize=True)*100"
      ],
      "metadata": {
        "trusted": true,
        "execution": {
          "iopub.status.busy": "2025-07-31T07:42:22.077823Z",
          "iopub.execute_input": "2025-07-31T07:42:22.078079Z",
          "iopub.status.idle": "2025-07-31T07:42:22.104171Z",
          "shell.execute_reply.started": "2025-07-31T07:42:22.078058Z",
          "shell.execute_reply": "2025-07-31T07:42:22.103219Z"
        },
        "id": "6HUIQWvPc6qJ",
        "outputId": "1ca63f2c-8412-4893-8c81-6c73bf5fa04d"
      },
      "outputs": [
        {
          "execution_count": 7,
          "output_type": "execute_result",
          "data": {
            "text/plain": "Class\n0    99.827251\n1     0.172749\nName: proportion, dtype: float64"
          },
          "metadata": {}
        }
      ],
      "execution_count": null
    },
    {
      "cell_type": "code",
      "source": [
        "df.tail()"
      ],
      "metadata": {
        "trusted": true,
        "execution": {
          "iopub.status.busy": "2025-07-31T07:42:22.105308Z",
          "iopub.execute_input": "2025-07-31T07:42:22.105774Z",
          "iopub.status.idle": "2025-07-31T07:42:22.148563Z",
          "shell.execute_reply.started": "2025-07-31T07:42:22.105717Z",
          "shell.execute_reply": "2025-07-31T07:42:22.147367Z"
        },
        "id": "6u5URsbYc6qJ",
        "outputId": "fb5a7a02-4981-4385-f66a-67b51ed50538"
      },
      "outputs": [
        {
          "execution_count": 8,
          "output_type": "execute_result",
          "data": {
            "text/plain": "            Time         V1         V2        V3        V4        V5  \\\n284802  172786.0 -11.881118  10.071785 -9.834783 -2.066656 -5.364473   \n284803  172787.0  -0.732789  -0.055080  2.035030 -0.738589  0.868229   \n284804  172788.0   1.919565  -0.301254 -3.249640 -0.557828  2.630515   \n284805  172788.0  -0.240440   0.530483  0.702510  0.689799 -0.377961   \n284806  172792.0  -0.533413  -0.189733  0.703337 -0.506271 -0.012546   \n\n              V6        V7        V8        V9  ...       V21       V22  \\\n284802 -2.606837 -4.918215  7.305334  1.914428  ...  0.213454  0.111864   \n284803  1.058415  0.024330  0.294869  0.584800  ...  0.214205  0.924384   \n284804  3.031260 -0.296827  0.708417  0.432454  ...  0.232045  0.578229   \n284805  0.623708 -0.686180  0.679145  0.392087  ...  0.265245  0.800049   \n284806 -0.649617  1.577006 -0.414650  0.486180  ...  0.261057  0.643078   \n\n             V23       V24       V25       V26       V27       V28  Amount  \\\n284802  1.014480 -0.509348  1.436807  0.250034  0.943651  0.823731    0.77   \n284803  0.012463 -1.016226 -0.606624 -0.395255  0.068472 -0.053527   24.79   \n284804 -0.037501  0.640134  0.265745 -0.087371  0.004455 -0.026561   67.88   \n284805 -0.163298  0.123205 -0.569159  0.546668  0.108821  0.104533   10.00   \n284806  0.376777  0.008797 -0.473649 -0.818267 -0.002415  0.013649  217.00   \n\n        Class  \n284802      0  \n284803      0  \n284804      0  \n284805      0  \n284806      0  \n\n[5 rows x 31 columns]",
            "text/html": "<div>\n<style scoped>\n    .dataframe tbody tr th:only-of-type {\n        vertical-align: middle;\n    }\n\n    .dataframe tbody tr th {\n        vertical-align: top;\n    }\n\n    .dataframe thead th {\n        text-align: right;\n    }\n</style>\n<table border=\"1\" class=\"dataframe\">\n  <thead>\n    <tr style=\"text-align: right;\">\n      <th></th>\n      <th>Time</th>\n      <th>V1</th>\n      <th>V2</th>\n      <th>V3</th>\n      <th>V4</th>\n      <th>V5</th>\n      <th>V6</th>\n      <th>V7</th>\n      <th>V8</th>\n      <th>V9</th>\n      <th>...</th>\n      <th>V21</th>\n      <th>V22</th>\n      <th>V23</th>\n      <th>V24</th>\n      <th>V25</th>\n      <th>V26</th>\n      <th>V27</th>\n      <th>V28</th>\n      <th>Amount</th>\n      <th>Class</th>\n    </tr>\n  </thead>\n  <tbody>\n    <tr>\n      <th>284802</th>\n      <td>172786.0</td>\n      <td>-11.881118</td>\n      <td>10.071785</td>\n      <td>-9.834783</td>\n      <td>-2.066656</td>\n      <td>-5.364473</td>\n      <td>-2.606837</td>\n      <td>-4.918215</td>\n      <td>7.305334</td>\n      <td>1.914428</td>\n      <td>...</td>\n      <td>0.213454</td>\n      <td>0.111864</td>\n      <td>1.014480</td>\n      <td>-0.509348</td>\n      <td>1.436807</td>\n      <td>0.250034</td>\n      <td>0.943651</td>\n      <td>0.823731</td>\n      <td>0.77</td>\n      <td>0</td>\n    </tr>\n    <tr>\n      <th>284803</th>\n      <td>172787.0</td>\n      <td>-0.732789</td>\n      <td>-0.055080</td>\n      <td>2.035030</td>\n      <td>-0.738589</td>\n      <td>0.868229</td>\n      <td>1.058415</td>\n      <td>0.024330</td>\n      <td>0.294869</td>\n      <td>0.584800</td>\n      <td>...</td>\n      <td>0.214205</td>\n      <td>0.924384</td>\n      <td>0.012463</td>\n      <td>-1.016226</td>\n      <td>-0.606624</td>\n      <td>-0.395255</td>\n      <td>0.068472</td>\n      <td>-0.053527</td>\n      <td>24.79</td>\n      <td>0</td>\n    </tr>\n    <tr>\n      <th>284804</th>\n      <td>172788.0</td>\n      <td>1.919565</td>\n      <td>-0.301254</td>\n      <td>-3.249640</td>\n      <td>-0.557828</td>\n      <td>2.630515</td>\n      <td>3.031260</td>\n      <td>-0.296827</td>\n      <td>0.708417</td>\n      <td>0.432454</td>\n      <td>...</td>\n      <td>0.232045</td>\n      <td>0.578229</td>\n      <td>-0.037501</td>\n      <td>0.640134</td>\n      <td>0.265745</td>\n      <td>-0.087371</td>\n      <td>0.004455</td>\n      <td>-0.026561</td>\n      <td>67.88</td>\n      <td>0</td>\n    </tr>\n    <tr>\n      <th>284805</th>\n      <td>172788.0</td>\n      <td>-0.240440</td>\n      <td>0.530483</td>\n      <td>0.702510</td>\n      <td>0.689799</td>\n      <td>-0.377961</td>\n      <td>0.623708</td>\n      <td>-0.686180</td>\n      <td>0.679145</td>\n      <td>0.392087</td>\n      <td>...</td>\n      <td>0.265245</td>\n      <td>0.800049</td>\n      <td>-0.163298</td>\n      <td>0.123205</td>\n      <td>-0.569159</td>\n      <td>0.546668</td>\n      <td>0.108821</td>\n      <td>0.104533</td>\n      <td>10.00</td>\n      <td>0</td>\n    </tr>\n    <tr>\n      <th>284806</th>\n      <td>172792.0</td>\n      <td>-0.533413</td>\n      <td>-0.189733</td>\n      <td>0.703337</td>\n      <td>-0.506271</td>\n      <td>-0.012546</td>\n      <td>-0.649617</td>\n      <td>1.577006</td>\n      <td>-0.414650</td>\n      <td>0.486180</td>\n      <td>...</td>\n      <td>0.261057</td>\n      <td>0.643078</td>\n      <td>0.376777</td>\n      <td>0.008797</td>\n      <td>-0.473649</td>\n      <td>-0.818267</td>\n      <td>-0.002415</td>\n      <td>0.013649</td>\n      <td>217.00</td>\n      <td>0</td>\n    </tr>\n  </tbody>\n</table>\n<p>5 rows × 31 columns</p>\n</div>"
          },
          "metadata": {}
        }
      ],
      "execution_count": null
    },
    {
      "cell_type": "markdown",
      "source": [
        "# Exploratory Data Analysis"
      ],
      "metadata": {
        "id": "wQ44QqLbc6qK"
      }
    },
    {
      "cell_type": "code",
      "source": [
        "df.info()"
      ],
      "metadata": {
        "trusted": true,
        "execution": {
          "iopub.status.busy": "2025-07-31T07:42:22.149635Z",
          "iopub.execute_input": "2025-07-31T07:42:22.149902Z",
          "iopub.status.idle": "2025-07-31T07:42:22.218217Z",
          "shell.execute_reply.started": "2025-07-31T07:42:22.149881Z",
          "shell.execute_reply": "2025-07-31T07:42:22.217241Z"
        },
        "id": "_OPzLl5gc6qL",
        "outputId": "eafceb10-8009-4e0f-d9e4-1f96c78de4d8"
      },
      "outputs": [
        {
          "name": "stdout",
          "text": "<class 'pandas.core.frame.DataFrame'>\nRangeIndex: 284807 entries, 0 to 284806\nData columns (total 31 columns):\n #   Column  Non-Null Count   Dtype  \n---  ------  --------------   -----  \n 0   Time    284807 non-null  float64\n 1   V1      284807 non-null  float64\n 2   V2      284807 non-null  float64\n 3   V3      284807 non-null  float64\n 4   V4      284807 non-null  float64\n 5   V5      284807 non-null  float64\n 6   V6      284807 non-null  float64\n 7   V7      284807 non-null  float64\n 8   V8      284807 non-null  float64\n 9   V9      284807 non-null  float64\n 10  V10     284807 non-null  float64\n 11  V11     284807 non-null  float64\n 12  V12     284807 non-null  float64\n 13  V13     284807 non-null  float64\n 14  V14     284807 non-null  float64\n 15  V15     284807 non-null  float64\n 16  V16     284807 non-null  float64\n 17  V17     284807 non-null  float64\n 18  V18     284807 non-null  float64\n 19  V19     284807 non-null  float64\n 20  V20     284807 non-null  float64\n 21  V21     284807 non-null  float64\n 22  V22     284807 non-null  float64\n 23  V23     284807 non-null  float64\n 24  V24     284807 non-null  float64\n 25  V25     284807 non-null  float64\n 26  V26     284807 non-null  float64\n 27  V27     284807 non-null  float64\n 28  V28     284807 non-null  float64\n 29  Amount  284807 non-null  float64\n 30  Class   284807 non-null  int64  \ndtypes: float64(30), int64(1)\nmemory usage: 67.4 MB\n",
          "output_type": "stream"
        }
      ],
      "execution_count": null
    },
    {
      "cell_type": "markdown",
      "source": [
        "## Distribution of legit and fraud transactions"
      ],
      "metadata": {
        "id": "C9603DMwc6qL"
      }
    },
    {
      "cell_type": "code",
      "source": [
        "legit = df[df.Class == 0]\n",
        "fraud = df[df.Class == 1]"
      ],
      "metadata": {
        "trusted": true,
        "execution": {
          "iopub.status.busy": "2025-07-31T07:42:22.219249Z",
          "iopub.execute_input": "2025-07-31T07:42:22.21968Z",
          "iopub.status.idle": "2025-07-31T07:42:22.273939Z",
          "shell.execute_reply.started": "2025-07-31T07:42:22.219651Z",
          "shell.execute_reply": "2025-07-31T07:42:22.272964Z"
        },
        "id": "LbEk3qXcc6qL"
      },
      "outputs": [],
      "execution_count": null
    },
    {
      "cell_type": "code",
      "source": [
        "print(legit.shape)\n",
        "print(fraud.shape)"
      ],
      "metadata": {
        "trusted": true,
        "execution": {
          "iopub.status.busy": "2025-07-31T07:42:22.274826Z",
          "iopub.execute_input": "2025-07-31T07:42:22.275186Z",
          "iopub.status.idle": "2025-07-31T07:42:22.28042Z",
          "shell.execute_reply.started": "2025-07-31T07:42:22.275113Z",
          "shell.execute_reply": "2025-07-31T07:42:22.279539Z"
        },
        "id": "Xus3PtfZc6qM",
        "outputId": "4d88afb1-6f5f-47f5-ace6-ff98a588023c"
      },
      "outputs": [
        {
          "name": "stdout",
          "text": "(284315, 31)\n(492, 31)\n",
          "output_type": "stream"
        }
      ],
      "execution_count": null
    },
    {
      "cell_type": "markdown",
      "source": [
        "## Statistical measures for the data"
      ],
      "metadata": {
        "id": "R3Yx4_Sjc6qM"
      }
    },
    {
      "cell_type": "code",
      "source": [
        "legit.Amount.describe()"
      ],
      "metadata": {
        "trusted": true,
        "execution": {
          "iopub.status.busy": "2025-07-31T07:42:22.283672Z",
          "iopub.execute_input": "2025-07-31T07:42:22.283946Z",
          "iopub.status.idle": "2025-07-31T07:42:22.319598Z",
          "shell.execute_reply.started": "2025-07-31T07:42:22.283915Z",
          "shell.execute_reply": "2025-07-31T07:42:22.318738Z"
        },
        "id": "jR97UCYQc6qM",
        "outputId": "b8e6ee18-b636-459b-fb9e-8a37008bc082"
      },
      "outputs": [
        {
          "execution_count": 12,
          "output_type": "execute_result",
          "data": {
            "text/plain": "count    284315.000000\nmean         88.291022\nstd         250.105092\nmin           0.000000\n25%           5.650000\n50%          22.000000\n75%          77.050000\nmax       25691.160000\nName: Amount, dtype: float64"
          },
          "metadata": {}
        }
      ],
      "execution_count": null
    },
    {
      "cell_type": "code",
      "source": [
        "fraud.Amount.describe()"
      ],
      "metadata": {
        "trusted": true,
        "execution": {
          "iopub.status.busy": "2025-07-31T07:42:22.320584Z",
          "iopub.execute_input": "2025-07-31T07:42:22.320857Z",
          "iopub.status.idle": "2025-07-31T07:42:22.330181Z",
          "shell.execute_reply.started": "2025-07-31T07:42:22.320837Z",
          "shell.execute_reply": "2025-07-31T07:42:22.329205Z"
        },
        "id": "i5VcGfkNc6qM",
        "outputId": "9939ed72-591f-47da-e32c-fccb52eea578"
      },
      "outputs": [
        {
          "execution_count": 13,
          "output_type": "execute_result",
          "data": {
            "text/plain": "count     492.000000\nmean      122.211321\nstd       256.683288\nmin         0.000000\n25%         1.000000\n50%         9.250000\n75%       105.890000\nmax      2125.870000\nName: Amount, dtype: float64"
          },
          "metadata": {}
        }
      ],
      "execution_count": null
    },
    {
      "cell_type": "markdown",
      "source": [
        "### Compare the values for both transactions"
      ],
      "metadata": {
        "id": "7fS3Zcctc6qN"
      }
    },
    {
      "cell_type": "code",
      "source": [
        "df.groupby('Class').mean()"
      ],
      "metadata": {
        "trusted": true,
        "execution": {
          "iopub.status.busy": "2025-07-31T07:42:22.331193Z",
          "iopub.execute_input": "2025-07-31T07:42:22.331522Z",
          "iopub.status.idle": "2025-07-31T07:42:22.485397Z",
          "shell.execute_reply.started": "2025-07-31T07:42:22.331477Z",
          "shell.execute_reply": "2025-07-31T07:42:22.484656Z"
        },
        "id": "jHjea8Ioc6qN",
        "outputId": "d931c372-e959-447a-e615-46e9dda81ee9"
      },
      "outputs": [
        {
          "execution_count": 14,
          "output_type": "execute_result",
          "data": {
            "text/plain": "               Time        V1        V2        V3        V4        V5  \\\nClass                                                                   \n0      94838.202258  0.008258 -0.006271  0.012171 -0.007860  0.005453   \n1      80746.806911 -4.771948  3.623778 -7.033281  4.542029 -3.151225   \n\n             V6        V7        V8        V9  ...       V20       V21  \\\nClass                                          ...                       \n0      0.002419  0.009637 -0.000987  0.004467  ... -0.000644 -0.001235   \n1     -1.397737 -5.568731  0.570636 -2.581123  ...  0.372319  0.713588   \n\n            V22       V23       V24       V25       V26       V27       V28  \\\nClass                                                                         \n0     -0.000024  0.000070  0.000182 -0.000072 -0.000089 -0.000295 -0.000131   \n1      0.014049 -0.040308 -0.105130  0.041449  0.051648  0.170575  0.075667   \n\n           Amount  \nClass              \n0       88.291022  \n1      122.211321  \n\n[2 rows x 30 columns]",
            "text/html": "<div>\n<style scoped>\n    .dataframe tbody tr th:only-of-type {\n        vertical-align: middle;\n    }\n\n    .dataframe tbody tr th {\n        vertical-align: top;\n    }\n\n    .dataframe thead th {\n        text-align: right;\n    }\n</style>\n<table border=\"1\" class=\"dataframe\">\n  <thead>\n    <tr style=\"text-align: right;\">\n      <th></th>\n      <th>Time</th>\n      <th>V1</th>\n      <th>V2</th>\n      <th>V3</th>\n      <th>V4</th>\n      <th>V5</th>\n      <th>V6</th>\n      <th>V7</th>\n      <th>V8</th>\n      <th>V9</th>\n      <th>...</th>\n      <th>V20</th>\n      <th>V21</th>\n      <th>V22</th>\n      <th>V23</th>\n      <th>V24</th>\n      <th>V25</th>\n      <th>V26</th>\n      <th>V27</th>\n      <th>V28</th>\n      <th>Amount</th>\n    </tr>\n    <tr>\n      <th>Class</th>\n      <th></th>\n      <th></th>\n      <th></th>\n      <th></th>\n      <th></th>\n      <th></th>\n      <th></th>\n      <th></th>\n      <th></th>\n      <th></th>\n      <th></th>\n      <th></th>\n      <th></th>\n      <th></th>\n      <th></th>\n      <th></th>\n      <th></th>\n      <th></th>\n      <th></th>\n      <th></th>\n      <th></th>\n    </tr>\n  </thead>\n  <tbody>\n    <tr>\n      <th>0</th>\n      <td>94838.202258</td>\n      <td>0.008258</td>\n      <td>-0.006271</td>\n      <td>0.012171</td>\n      <td>-0.007860</td>\n      <td>0.005453</td>\n      <td>0.002419</td>\n      <td>0.009637</td>\n      <td>-0.000987</td>\n      <td>0.004467</td>\n      <td>...</td>\n      <td>-0.000644</td>\n      <td>-0.001235</td>\n      <td>-0.000024</td>\n      <td>0.000070</td>\n      <td>0.000182</td>\n      <td>-0.000072</td>\n      <td>-0.000089</td>\n      <td>-0.000295</td>\n      <td>-0.000131</td>\n      <td>88.291022</td>\n    </tr>\n    <tr>\n      <th>1</th>\n      <td>80746.806911</td>\n      <td>-4.771948</td>\n      <td>3.623778</td>\n      <td>-7.033281</td>\n      <td>4.542029</td>\n      <td>-3.151225</td>\n      <td>-1.397737</td>\n      <td>-5.568731</td>\n      <td>0.570636</td>\n      <td>-2.581123</td>\n      <td>...</td>\n      <td>0.372319</td>\n      <td>0.713588</td>\n      <td>0.014049</td>\n      <td>-0.040308</td>\n      <td>-0.105130</td>\n      <td>0.041449</td>\n      <td>0.051648</td>\n      <td>0.170575</td>\n      <td>0.075667</td>\n      <td>122.211321</td>\n    </tr>\n  </tbody>\n</table>\n<p>2 rows × 30 columns</p>\n</div>"
          },
          "metadata": {}
        }
      ],
      "execution_count": null
    },
    {
      "cell_type": "markdown",
      "source": [
        "#### Under-sampling\n",
        "\n",
        "Build a sample dataset containing similar distribution of normal transactions and fraudulent transactions"
      ],
      "metadata": {
        "id": "3UR2Daerc6qN"
      }
    },
    {
      "cell_type": "code",
      "source": [
        "legit_sample = legit.sample(n=492)\n"
      ],
      "metadata": {
        "trusted": true,
        "execution": {
          "iopub.status.busy": "2025-07-31T07:42:22.486166Z",
          "iopub.execute_input": "2025-07-31T07:42:22.486387Z",
          "iopub.status.idle": "2025-07-31T07:42:22.500812Z",
          "shell.execute_reply.started": "2025-07-31T07:42:22.48637Z",
          "shell.execute_reply": "2025-07-31T07:42:22.499793Z"
        },
        "id": "4u8kxJRrc6qN"
      },
      "outputs": [],
      "execution_count": null
    },
    {
      "cell_type": "markdown",
      "source": [
        "Concateneting 2 dataframes"
      ],
      "metadata": {
        "id": "zddEX9Ubc6qN"
      }
    },
    {
      "cell_type": "code",
      "source": [
        "new_df = pd.concat([legit_sample, fraud],axis=0)\n"
      ],
      "metadata": {
        "trusted": true,
        "execution": {
          "iopub.status.busy": "2025-07-31T07:42:22.501879Z",
          "iopub.execute_input": "2025-07-31T07:42:22.502207Z",
          "iopub.status.idle": "2025-07-31T07:42:22.517936Z",
          "shell.execute_reply.started": "2025-07-31T07:42:22.502176Z",
          "shell.execute_reply": "2025-07-31T07:42:22.51705Z"
        },
        "id": "IhdC8lu0c6qN"
      },
      "outputs": [],
      "execution_count": null
    },
    {
      "cell_type": "code",
      "source": [
        "new_df.head()"
      ],
      "metadata": {
        "trusted": true,
        "execution": {
          "iopub.status.busy": "2025-07-31T07:42:22.518516Z",
          "iopub.execute_input": "2025-07-31T07:42:22.51883Z",
          "iopub.status.idle": "2025-07-31T07:42:22.548878Z",
          "shell.execute_reply.started": "2025-07-31T07:42:22.518809Z",
          "shell.execute_reply": "2025-07-31T07:42:22.547939Z"
        },
        "id": "XsvS_mECc6qN",
        "outputId": "e1da9157-336a-4aa3-8d05-48f7fc28aca9"
      },
      "outputs": [
        {
          "execution_count": 17,
          "output_type": "execute_result",
          "data": {
            "text/plain": "            Time        V1        V2        V3        V4        V5        V6  \\\n245198  152642.0 -0.579174  0.540055  1.102578 -0.749804  0.525935  0.359286   \n28024    34815.0  1.248014  0.072876 -0.382186  0.777776  0.420537  0.272577   \n133594   80454.0  1.167999 -0.014236 -0.010489 -0.106300 -0.391695 -1.205765   \n41054    40512.0 -1.218076  1.401627 -0.338440  0.394019  0.461431  0.921782   \n208943  137342.0  2.138138 -0.700917 -1.429026 -0.414813 -0.294613 -0.619342   \n\n              V7        V8        V9  ...       V21       V22       V23  \\\n245198  0.277112  0.312220  0.360736  ...  0.279304  1.069019 -0.369995   \n28024   0.029751  0.085026  0.329918  ... -0.040687 -0.170119 -0.245064   \n133594  0.344614 -0.227671 -0.302130  ... -0.292535 -1.030963  0.123394   \n41054  -0.037892  1.067836 -0.933586  ...  0.166999  0.351173 -0.282113   \n208943 -0.293003 -0.307289 -0.581935  ... -0.074816  0.347563  0.046503   \n\n             V24       V25       V26       V27       V28  Amount  Class  \n245198  0.707288  0.045685  0.612245  0.115118  0.162968   15.10      0  \n28024  -1.361209  0.734335 -0.208967  0.012305  0.003646   30.50      0  \n133594  0.557438  0.122180  0.702194 -0.123529 -0.001644   53.90      0  \n41054  -1.692877 -0.044607 -0.205696  0.092282  0.008232   50.00      0  \n208943  0.635777  0.086785  0.733720 -0.055791 -0.051752   40.21      0  \n\n[5 rows x 31 columns]",
            "text/html": "<div>\n<style scoped>\n    .dataframe tbody tr th:only-of-type {\n        vertical-align: middle;\n    }\n\n    .dataframe tbody tr th {\n        vertical-align: top;\n    }\n\n    .dataframe thead th {\n        text-align: right;\n    }\n</style>\n<table border=\"1\" class=\"dataframe\">\n  <thead>\n    <tr style=\"text-align: right;\">\n      <th></th>\n      <th>Time</th>\n      <th>V1</th>\n      <th>V2</th>\n      <th>V3</th>\n      <th>V4</th>\n      <th>V5</th>\n      <th>V6</th>\n      <th>V7</th>\n      <th>V8</th>\n      <th>V9</th>\n      <th>...</th>\n      <th>V21</th>\n      <th>V22</th>\n      <th>V23</th>\n      <th>V24</th>\n      <th>V25</th>\n      <th>V26</th>\n      <th>V27</th>\n      <th>V28</th>\n      <th>Amount</th>\n      <th>Class</th>\n    </tr>\n  </thead>\n  <tbody>\n    <tr>\n      <th>245198</th>\n      <td>152642.0</td>\n      <td>-0.579174</td>\n      <td>0.540055</td>\n      <td>1.102578</td>\n      <td>-0.749804</td>\n      <td>0.525935</td>\n      <td>0.359286</td>\n      <td>0.277112</td>\n      <td>0.312220</td>\n      <td>0.360736</td>\n      <td>...</td>\n      <td>0.279304</td>\n      <td>1.069019</td>\n      <td>-0.369995</td>\n      <td>0.707288</td>\n      <td>0.045685</td>\n      <td>0.612245</td>\n      <td>0.115118</td>\n      <td>0.162968</td>\n      <td>15.10</td>\n      <td>0</td>\n    </tr>\n    <tr>\n      <th>28024</th>\n      <td>34815.0</td>\n      <td>1.248014</td>\n      <td>0.072876</td>\n      <td>-0.382186</td>\n      <td>0.777776</td>\n      <td>0.420537</td>\n      <td>0.272577</td>\n      <td>0.029751</td>\n      <td>0.085026</td>\n      <td>0.329918</td>\n      <td>...</td>\n      <td>-0.040687</td>\n      <td>-0.170119</td>\n      <td>-0.245064</td>\n      <td>-1.361209</td>\n      <td>0.734335</td>\n      <td>-0.208967</td>\n      <td>0.012305</td>\n      <td>0.003646</td>\n      <td>30.50</td>\n      <td>0</td>\n    </tr>\n    <tr>\n      <th>133594</th>\n      <td>80454.0</td>\n      <td>1.167999</td>\n      <td>-0.014236</td>\n      <td>-0.010489</td>\n      <td>-0.106300</td>\n      <td>-0.391695</td>\n      <td>-1.205765</td>\n      <td>0.344614</td>\n      <td>-0.227671</td>\n      <td>-0.302130</td>\n      <td>...</td>\n      <td>-0.292535</td>\n      <td>-1.030963</td>\n      <td>0.123394</td>\n      <td>0.557438</td>\n      <td>0.122180</td>\n      <td>0.702194</td>\n      <td>-0.123529</td>\n      <td>-0.001644</td>\n      <td>53.90</td>\n      <td>0</td>\n    </tr>\n    <tr>\n      <th>41054</th>\n      <td>40512.0</td>\n      <td>-1.218076</td>\n      <td>1.401627</td>\n      <td>-0.338440</td>\n      <td>0.394019</td>\n      <td>0.461431</td>\n      <td>0.921782</td>\n      <td>-0.037892</td>\n      <td>1.067836</td>\n      <td>-0.933586</td>\n      <td>...</td>\n      <td>0.166999</td>\n      <td>0.351173</td>\n      <td>-0.282113</td>\n      <td>-1.692877</td>\n      <td>-0.044607</td>\n      <td>-0.205696</td>\n      <td>0.092282</td>\n      <td>0.008232</td>\n      <td>50.00</td>\n      <td>0</td>\n    </tr>\n    <tr>\n      <th>208943</th>\n      <td>137342.0</td>\n      <td>2.138138</td>\n      <td>-0.700917</td>\n      <td>-1.429026</td>\n      <td>-0.414813</td>\n      <td>-0.294613</td>\n      <td>-0.619342</td>\n      <td>-0.293003</td>\n      <td>-0.307289</td>\n      <td>-0.581935</td>\n      <td>...</td>\n      <td>-0.074816</td>\n      <td>0.347563</td>\n      <td>0.046503</td>\n      <td>0.635777</td>\n      <td>0.086785</td>\n      <td>0.733720</td>\n      <td>-0.055791</td>\n      <td>-0.051752</td>\n      <td>40.21</td>\n      <td>0</td>\n    </tr>\n  </tbody>\n</table>\n<p>5 rows × 31 columns</p>\n</div>"
          },
          "metadata": {}
        }
      ],
      "execution_count": null
    },
    {
      "cell_type": "code",
      "source": [
        "new_df.tail()"
      ],
      "metadata": {
        "trusted": true,
        "execution": {
          "iopub.status.busy": "2025-07-31T07:42:22.549875Z",
          "iopub.execute_input": "2025-07-31T07:42:22.550188Z",
          "iopub.status.idle": "2025-07-31T07:42:22.579464Z",
          "shell.execute_reply.started": "2025-07-31T07:42:22.55016Z",
          "shell.execute_reply": "2025-07-31T07:42:22.57867Z"
        },
        "id": "go7shlMFc6qN",
        "outputId": "892bb4c7-68a5-44ef-de5c-232e03bb2e19"
      },
      "outputs": [
        {
          "execution_count": 18,
          "output_type": "execute_result",
          "data": {
            "text/plain": "            Time        V1        V2        V3        V4        V5        V6  \\\n279863  169142.0 -1.927883  1.125653 -4.518331  1.749293 -1.566487 -2.010494   \n280143  169347.0  1.378559  1.289381 -5.004247  1.411850  0.442581 -1.326536   \n280149  169351.0 -0.676143  1.126366 -2.213700  0.468308 -1.120541 -0.003346   \n281144  169966.0 -3.113832  0.585864 -5.399730  1.817092 -0.840618 -2.943548   \n281674  170348.0  1.991976  0.158476 -2.583441  0.408670  1.151147 -0.096695   \n\n              V7        V8        V9  ...       V21       V22       V23  \\\n279863 -0.882850  0.697211 -2.064945  ...  0.778584 -0.319189  0.639419   \n280143 -1.413170  0.248525 -1.127396  ...  0.370612  0.028234 -0.145640   \n280149 -2.234739  1.210158 -0.652250  ...  0.751826  0.834108  0.190944   \n281144 -2.208002  1.058733 -1.632333  ...  0.583276 -0.269209 -0.456108   \n281674  0.223050 -0.068384  0.577829  ... -0.164350 -0.295135 -0.072173   \n\n             V24       V25       V26       V27       V28  Amount  Class  \n279863 -0.294885  0.537503  0.788395  0.292680  0.147968  390.00      1  \n280143 -0.081049  0.521875  0.739467  0.389152  0.186637    0.76      1  \n280149  0.032070 -0.739695  0.471111  0.385107  0.194361   77.89      1  \n281144 -0.183659 -0.328168  0.606116  0.884876 -0.253700  245.00      1  \n281674 -0.450261  0.313267 -0.289617  0.002988 -0.015309   42.53      1  \n\n[5 rows x 31 columns]",
            "text/html": "<div>\n<style scoped>\n    .dataframe tbody tr th:only-of-type {\n        vertical-align: middle;\n    }\n\n    .dataframe tbody tr th {\n        vertical-align: top;\n    }\n\n    .dataframe thead th {\n        text-align: right;\n    }\n</style>\n<table border=\"1\" class=\"dataframe\">\n  <thead>\n    <tr style=\"text-align: right;\">\n      <th></th>\n      <th>Time</th>\n      <th>V1</th>\n      <th>V2</th>\n      <th>V3</th>\n      <th>V4</th>\n      <th>V5</th>\n      <th>V6</th>\n      <th>V7</th>\n      <th>V8</th>\n      <th>V9</th>\n      <th>...</th>\n      <th>V21</th>\n      <th>V22</th>\n      <th>V23</th>\n      <th>V24</th>\n      <th>V25</th>\n      <th>V26</th>\n      <th>V27</th>\n      <th>V28</th>\n      <th>Amount</th>\n      <th>Class</th>\n    </tr>\n  </thead>\n  <tbody>\n    <tr>\n      <th>279863</th>\n      <td>169142.0</td>\n      <td>-1.927883</td>\n      <td>1.125653</td>\n      <td>-4.518331</td>\n      <td>1.749293</td>\n      <td>-1.566487</td>\n      <td>-2.010494</td>\n      <td>-0.882850</td>\n      <td>0.697211</td>\n      <td>-2.064945</td>\n      <td>...</td>\n      <td>0.778584</td>\n      <td>-0.319189</td>\n      <td>0.639419</td>\n      <td>-0.294885</td>\n      <td>0.537503</td>\n      <td>0.788395</td>\n      <td>0.292680</td>\n      <td>0.147968</td>\n      <td>390.00</td>\n      <td>1</td>\n    </tr>\n    <tr>\n      <th>280143</th>\n      <td>169347.0</td>\n      <td>1.378559</td>\n      <td>1.289381</td>\n      <td>-5.004247</td>\n      <td>1.411850</td>\n      <td>0.442581</td>\n      <td>-1.326536</td>\n      <td>-1.413170</td>\n      <td>0.248525</td>\n      <td>-1.127396</td>\n      <td>...</td>\n      <td>0.370612</td>\n      <td>0.028234</td>\n      <td>-0.145640</td>\n      <td>-0.081049</td>\n      <td>0.521875</td>\n      <td>0.739467</td>\n      <td>0.389152</td>\n      <td>0.186637</td>\n      <td>0.76</td>\n      <td>1</td>\n    </tr>\n    <tr>\n      <th>280149</th>\n      <td>169351.0</td>\n      <td>-0.676143</td>\n      <td>1.126366</td>\n      <td>-2.213700</td>\n      <td>0.468308</td>\n      <td>-1.120541</td>\n      <td>-0.003346</td>\n      <td>-2.234739</td>\n      <td>1.210158</td>\n      <td>-0.652250</td>\n      <td>...</td>\n      <td>0.751826</td>\n      <td>0.834108</td>\n      <td>0.190944</td>\n      <td>0.032070</td>\n      <td>-0.739695</td>\n      <td>0.471111</td>\n      <td>0.385107</td>\n      <td>0.194361</td>\n      <td>77.89</td>\n      <td>1</td>\n    </tr>\n    <tr>\n      <th>281144</th>\n      <td>169966.0</td>\n      <td>-3.113832</td>\n      <td>0.585864</td>\n      <td>-5.399730</td>\n      <td>1.817092</td>\n      <td>-0.840618</td>\n      <td>-2.943548</td>\n      <td>-2.208002</td>\n      <td>1.058733</td>\n      <td>-1.632333</td>\n      <td>...</td>\n      <td>0.583276</td>\n      <td>-0.269209</td>\n      <td>-0.456108</td>\n      <td>-0.183659</td>\n      <td>-0.328168</td>\n      <td>0.606116</td>\n      <td>0.884876</td>\n      <td>-0.253700</td>\n      <td>245.00</td>\n      <td>1</td>\n    </tr>\n    <tr>\n      <th>281674</th>\n      <td>170348.0</td>\n      <td>1.991976</td>\n      <td>0.158476</td>\n      <td>-2.583441</td>\n      <td>0.408670</td>\n      <td>1.151147</td>\n      <td>-0.096695</td>\n      <td>0.223050</td>\n      <td>-0.068384</td>\n      <td>0.577829</td>\n      <td>...</td>\n      <td>-0.164350</td>\n      <td>-0.295135</td>\n      <td>-0.072173</td>\n      <td>-0.450261</td>\n      <td>0.313267</td>\n      <td>-0.289617</td>\n      <td>0.002988</td>\n      <td>-0.015309</td>\n      <td>42.53</td>\n      <td>1</td>\n    </tr>\n  </tbody>\n</table>\n<p>5 rows × 31 columns</p>\n</div>"
          },
          "metadata": {}
        }
      ],
      "execution_count": null
    },
    {
      "cell_type": "code",
      "source": [
        "new_df.shape"
      ],
      "metadata": {
        "trusted": true,
        "execution": {
          "iopub.status.busy": "2025-07-31T07:42:22.580407Z",
          "iopub.execute_input": "2025-07-31T07:42:22.580758Z",
          "iopub.status.idle": "2025-07-31T07:42:22.595355Z",
          "shell.execute_reply.started": "2025-07-31T07:42:22.580731Z",
          "shell.execute_reply": "2025-07-31T07:42:22.594562Z"
        },
        "id": "mdypjaq0c6qN",
        "outputId": "a0181fc6-7b7d-4051-a8f1-fa995b016f74"
      },
      "outputs": [
        {
          "execution_count": 19,
          "output_type": "execute_result",
          "data": {
            "text/plain": "(984, 31)"
          },
          "metadata": {}
        }
      ],
      "execution_count": null
    },
    {
      "cell_type": "code",
      "source": [
        "new_df['Class'].value_counts()"
      ],
      "metadata": {
        "trusted": true,
        "execution": {
          "iopub.status.busy": "2025-07-31T07:42:22.596514Z",
          "iopub.execute_input": "2025-07-31T07:42:22.596828Z",
          "iopub.status.idle": "2025-07-31T07:42:22.614162Z",
          "shell.execute_reply.started": "2025-07-31T07:42:22.596798Z",
          "shell.execute_reply": "2025-07-31T07:42:22.613186Z"
        },
        "id": "ASAQSC8Dc6qO",
        "outputId": "4b2c7c6e-dda8-4e75-ea83-0ecdcd0eeeef"
      },
      "outputs": [
        {
          "execution_count": 20,
          "output_type": "execute_result",
          "data": {
            "text/plain": "Class\n0    492\n1    492\nName: count, dtype: int64"
          },
          "metadata": {}
        }
      ],
      "execution_count": null
    },
    {
      "cell_type": "code",
      "source": [
        "new_df.groupby('Class').mean()"
      ],
      "metadata": {
        "trusted": true,
        "execution": {
          "iopub.status.busy": "2025-07-31T07:42:22.615748Z",
          "iopub.execute_input": "2025-07-31T07:42:22.616213Z",
          "iopub.status.idle": "2025-07-31T07:42:22.654065Z",
          "shell.execute_reply.started": "2025-07-31T07:42:22.616176Z",
          "shell.execute_reply": "2025-07-31T07:42:22.653384Z"
        },
        "id": "MotZbc_5c6qO",
        "outputId": "1f9a392b-587f-4905-c75c-67ba5c161a05"
      },
      "outputs": [
        {
          "execution_count": 21,
          "output_type": "execute_result",
          "data": {
            "text/plain": "               Time        V1        V2        V3        V4        V5  \\\nClass                                                                   \n0      97422.758130  0.133764  0.048587  0.007478  0.061812  0.033740   \n1      80746.806911 -4.771948  3.623778 -7.033281  4.542029 -3.151225   \n\n             V6        V7        V8        V9  ...       V20       V21  \\\nClass                                          ...                       \n0      0.109464 -0.027450  0.037072 -0.010012  ...  0.004875  0.010634   \n1     -1.397737 -5.568731  0.570636 -2.581123  ...  0.372319  0.713588   \n\n            V22       V23       V24       V25       V26       V27       V28  \\\nClass                                                                         \n0      0.041558  0.019417 -0.040614 -0.000944 -0.010350  0.039699  0.010977   \n1      0.014049 -0.040308 -0.105130  0.041449  0.051648  0.170575  0.075667   \n\n           Amount  \nClass              \n0       79.198618  \n1      122.211321  \n\n[2 rows x 30 columns]",
            "text/html": "<div>\n<style scoped>\n    .dataframe tbody tr th:only-of-type {\n        vertical-align: middle;\n    }\n\n    .dataframe tbody tr th {\n        vertical-align: top;\n    }\n\n    .dataframe thead th {\n        text-align: right;\n    }\n</style>\n<table border=\"1\" class=\"dataframe\">\n  <thead>\n    <tr style=\"text-align: right;\">\n      <th></th>\n      <th>Time</th>\n      <th>V1</th>\n      <th>V2</th>\n      <th>V3</th>\n      <th>V4</th>\n      <th>V5</th>\n      <th>V6</th>\n      <th>V7</th>\n      <th>V8</th>\n      <th>V9</th>\n      <th>...</th>\n      <th>V20</th>\n      <th>V21</th>\n      <th>V22</th>\n      <th>V23</th>\n      <th>V24</th>\n      <th>V25</th>\n      <th>V26</th>\n      <th>V27</th>\n      <th>V28</th>\n      <th>Amount</th>\n    </tr>\n    <tr>\n      <th>Class</th>\n      <th></th>\n      <th></th>\n      <th></th>\n      <th></th>\n      <th></th>\n      <th></th>\n      <th></th>\n      <th></th>\n      <th></th>\n      <th></th>\n      <th></th>\n      <th></th>\n      <th></th>\n      <th></th>\n      <th></th>\n      <th></th>\n      <th></th>\n      <th></th>\n      <th></th>\n      <th></th>\n      <th></th>\n    </tr>\n  </thead>\n  <tbody>\n    <tr>\n      <th>0</th>\n      <td>97422.758130</td>\n      <td>0.133764</td>\n      <td>0.048587</td>\n      <td>0.007478</td>\n      <td>0.061812</td>\n      <td>0.033740</td>\n      <td>0.109464</td>\n      <td>-0.027450</td>\n      <td>0.037072</td>\n      <td>-0.010012</td>\n      <td>...</td>\n      <td>0.004875</td>\n      <td>0.010634</td>\n      <td>0.041558</td>\n      <td>0.019417</td>\n      <td>-0.040614</td>\n      <td>-0.000944</td>\n      <td>-0.010350</td>\n      <td>0.039699</td>\n      <td>0.010977</td>\n      <td>79.198618</td>\n    </tr>\n    <tr>\n      <th>1</th>\n      <td>80746.806911</td>\n      <td>-4.771948</td>\n      <td>3.623778</td>\n      <td>-7.033281</td>\n      <td>4.542029</td>\n      <td>-3.151225</td>\n      <td>-1.397737</td>\n      <td>-5.568731</td>\n      <td>0.570636</td>\n      <td>-2.581123</td>\n      <td>...</td>\n      <td>0.372319</td>\n      <td>0.713588</td>\n      <td>0.014049</td>\n      <td>-0.040308</td>\n      <td>-0.105130</td>\n      <td>0.041449</td>\n      <td>0.051648</td>\n      <td>0.170575</td>\n      <td>0.075667</td>\n      <td>122.211321</td>\n    </tr>\n  </tbody>\n</table>\n<p>2 rows × 30 columns</p>\n</div>"
          },
          "metadata": {}
        }
      ],
      "execution_count": null
    },
    {
      "cell_type": "markdown",
      "source": [
        "splitting the data into features and targets"
      ],
      "metadata": {
        "id": "wHE7PrAcc6qO"
      }
    },
    {
      "cell_type": "code",
      "source": [
        "X = new_df.drop(columns = 'Class', axis = 1)\n",
        "y = new_df['Class']"
      ],
      "metadata": {
        "trusted": true,
        "execution": {
          "iopub.status.busy": "2025-07-31T07:42:22.654879Z",
          "iopub.execute_input": "2025-07-31T07:42:22.655124Z",
          "iopub.status.idle": "2025-07-31T07:42:22.660366Z",
          "shell.execute_reply.started": "2025-07-31T07:42:22.655106Z",
          "shell.execute_reply": "2025-07-31T07:42:22.659556Z"
        },
        "id": "QTy-7U1tc6qO"
      },
      "outputs": [],
      "execution_count": null
    },
    {
      "cell_type": "markdown",
      "source": [
        "### Applying train_test_split"
      ],
      "metadata": {
        "id": "mEHWjutic6qO"
      }
    },
    {
      "cell_type": "code",
      "source": [
        "X_train,X_test, y_train, y_test = train_test_split(X, y, test_size = 0.2, stratify = y, random_state=2)"
      ],
      "metadata": {
        "trusted": true,
        "execution": {
          "iopub.status.busy": "2025-07-31T07:42:22.661086Z",
          "iopub.execute_input": "2025-07-31T07:42:22.661294Z",
          "iopub.status.idle": "2025-07-31T07:42:22.680083Z",
          "shell.execute_reply.started": "2025-07-31T07:42:22.661277Z",
          "shell.execute_reply": "2025-07-31T07:42:22.6793Z"
        },
        "id": "PGCNZyB_c6qO"
      },
      "outputs": [],
      "execution_count": null
    },
    {
      "cell_type": "code",
      "source": [
        "print(X_train.shape,X_test.shape)"
      ],
      "metadata": {
        "trusted": true,
        "execution": {
          "iopub.status.busy": "2025-07-31T07:42:22.681022Z",
          "iopub.execute_input": "2025-07-31T07:42:22.681333Z",
          "iopub.status.idle": "2025-07-31T07:42:22.69674Z",
          "shell.execute_reply.started": "2025-07-31T07:42:22.681312Z",
          "shell.execute_reply": "2025-07-31T07:42:22.695798Z"
        },
        "id": "e1Rbbx1nc6qO",
        "outputId": "b4970dac-21f2-4421-d18c-7a8cebc5e7a3"
      },
      "outputs": [
        {
          "name": "stdout",
          "text": "(787, 30) (197, 30)\n",
          "output_type": "stream"
        }
      ],
      "execution_count": null
    },
    {
      "cell_type": "markdown",
      "source": [
        "# Model Training"
      ],
      "metadata": {
        "id": "Q1cGHo13c6qO"
      }
    },
    {
      "cell_type": "markdown",
      "source": [
        "## Logistic Regression"
      ],
      "metadata": {
        "id": "ANFTqkR3c6qP"
      }
    },
    {
      "cell_type": "code",
      "source": [
        "lr = LogisticRegression()\n",
        "lr.fit(X_train,y_train)\n",
        "y_pred = lr.predict(X_test)"
      ],
      "metadata": {
        "trusted": true,
        "execution": {
          "iopub.status.busy": "2025-07-31T07:42:22.697611Z",
          "iopub.execute_input": "2025-07-31T07:42:22.698126Z",
          "iopub.status.idle": "2025-07-31T07:42:23.054763Z",
          "shell.execute_reply.started": "2025-07-31T07:42:22.69809Z",
          "shell.execute_reply": "2025-07-31T07:42:23.053849Z"
        },
        "id": "RNc76uaic6qP"
      },
      "outputs": [],
      "execution_count": null
    },
    {
      "cell_type": "markdown",
      "source": [
        "## Evaluation"
      ],
      "metadata": {
        "id": "BGCfobwnc6qP"
      }
    },
    {
      "cell_type": "markdown",
      "source": [
        "### Accuracy Score"
      ],
      "metadata": {
        "id": "yOwhWQnic6qP"
      }
    },
    {
      "cell_type": "code",
      "source": [
        "accuracy_score(y_test,y_pred)"
      ],
      "metadata": {
        "trusted": true,
        "execution": {
          "iopub.status.busy": "2025-07-31T07:42:23.055563Z",
          "iopub.execute_input": "2025-07-31T07:42:23.055817Z",
          "iopub.status.idle": "2025-07-31T07:42:23.068986Z",
          "shell.execute_reply.started": "2025-07-31T07:42:23.055797Z",
          "shell.execute_reply": "2025-07-31T07:42:23.068323Z"
        },
        "id": "jwGRVUePc6qP",
        "outputId": "e71900be-1dd2-4c91-b05f-315339d574b1"
      },
      "outputs": [
        {
          "execution_count": 26,
          "output_type": "execute_result",
          "data": {
            "text/plain": "0.9137055837563451"
          },
          "metadata": {}
        }
      ],
      "execution_count": null
    },
    {
      "cell_type": "markdown",
      "source": [
        "### Confusion Matrix and Classification report"
      ],
      "metadata": {
        "id": "b-Gy1QQlc6qP"
      }
    },
    {
      "cell_type": "code",
      "source": [
        "confusion_matrix(y_test,y_pred)"
      ],
      "metadata": {
        "trusted": true,
        "execution": {
          "iopub.status.busy": "2025-07-31T07:42:23.069708Z",
          "iopub.execute_input": "2025-07-31T07:42:23.069975Z",
          "iopub.status.idle": "2025-07-31T07:42:23.094704Z",
          "shell.execute_reply.started": "2025-07-31T07:42:23.069952Z",
          "shell.execute_reply": "2025-07-31T07:42:23.093288Z"
        },
        "id": "uW86Zdrxc6qP",
        "outputId": "3fa0d0fe-8631-4baf-b3cf-6000cc6fc39c"
      },
      "outputs": [
        {
          "execution_count": 27,
          "output_type": "execute_result",
          "data": {
            "text/plain": "array([[96,  3],\n       [14, 84]])"
          },
          "metadata": {}
        }
      ],
      "execution_count": null
    },
    {
      "cell_type": "code",
      "source": [
        "classification_report(y_test,y_pred)"
      ],
      "metadata": {
        "trusted": true,
        "execution": {
          "iopub.status.busy": "2025-07-31T07:42:23.096952Z",
          "iopub.execute_input": "2025-07-31T07:42:23.09722Z",
          "iopub.status.idle": "2025-07-31T07:42:23.119128Z",
          "shell.execute_reply.started": "2025-07-31T07:42:23.097199Z",
          "shell.execute_reply": "2025-07-31T07:42:23.118295Z"
        },
        "id": "7gIviqNgc6qa",
        "outputId": "f2125800-bad9-4acb-d680-fa35b5f93c2a"
      },
      "outputs": [
        {
          "execution_count": 28,
          "output_type": "execute_result",
          "data": {
            "text/plain": "'              precision    recall  f1-score   support\\n\\n           0       0.87      0.97      0.92        99\\n           1       0.97      0.86      0.91        98\\n\\n    accuracy                           0.91       197\\n   macro avg       0.92      0.91      0.91       197\\nweighted avg       0.92      0.91      0.91       197\\n'"
          },
          "metadata": {}
        }
      ],
      "execution_count": null
    },
    {
      "cell_type": "code",
      "metadata": {
        "colab": {
          "base_uri": "https://localhost:8080/"
        },
        "id": "21fda38a",
        "outputId": "d8b6d79d-9692-4ab0-e09d-e2d2c05ef415"
      },
      "source": [
        "import kagglehub\n",
        "from sklearn.model_selection import train_test_split\n",
        "from sklearn.metrics import confusion_matrix, classification_report\n",
        "isaikumar_creditcardfraud_path = kagglehub.dataset_download('isaikumar/creditcardfraud')\n",
        "\n",
        "df = pd.read_csv(isaikumar_creditcardfraud_path + \"/creditcard.csv\")\n",
        "legit = df[df.Class == 0]\n",
        "fraud = df[df.Class == 1]\n",
        "legit_sample = legit.sample(n=492)\n",
        "new_df = pd.concat([legit_sample, fraud],axis=0)\n",
        "\n",
        "from sklearn.svm import OneClassSVM\n",
        "\n",
        "# Separate features (X) and target (y)\n",
        "X = new_df.drop('Class', axis=1)\n",
        "y = new_df['Class']\n",
        "\n",
        "# Split data into training and testing sets\n",
        "X_train, X_test, y_train, y_test = train_test_split(X, y, test_size=0.2, random_state=42)\n",
        "\n",
        "# Create and train the One-Class SVM model\n",
        "oc_svm = OneClassSVM(gamma='auto', nu=0.01)\n",
        "oc_svm.fit(X_train[y_train == 0])\n",
        "\n",
        "# Predict on the test set\n",
        "y_pred_oc = oc_svm.predict(X_test)\n",
        "\n",
        "# Convert predictions to 0 and 1\n",
        "y_pred_oc_binary = [1 if pred == -1 else 0 for pred in y_pred_oc]\n",
        "\n",
        "# Evaluate the model\n",
        "print(\"Confusion Matrix:\")\n",
        "print(confusion_matrix(y_test, y_pred_oc_binary))\n",
        "print(\"\\nClassification Report:\")\n",
        "print(classification_report(y_test, y_pred_oc_binary))"
      ],
      "execution_count": null,
      "outputs": [
        {
          "output_type": "stream",
          "name": "stdout",
          "text": [
            "Confusion Matrix:\n",
            "[[ 0 99]\n",
            " [ 0 98]]\n",
            "\n",
            "Classification Report:\n",
            "              precision    recall  f1-score   support\n",
            "\n",
            "           0       0.00      0.00      0.00        99\n",
            "           1       0.50      1.00      0.66        98\n",
            "\n",
            "    accuracy                           0.50       197\n",
            "   macro avg       0.25      0.50      0.33       197\n",
            "weighted avg       0.25      0.50      0.33       197\n",
            "\n"
          ]
        },
        {
          "output_type": "stream",
          "name": "stderr",
          "text": [
            "/usr/local/lib/python3.11/dist-packages/sklearn/metrics/_classification.py:1565: UndefinedMetricWarning: Precision is ill-defined and being set to 0.0 in labels with no predicted samples. Use `zero_division` parameter to control this behavior.\n",
            "  _warn_prf(average, modifier, f\"{metric.capitalize()} is\", len(result))\n",
            "/usr/local/lib/python3.11/dist-packages/sklearn/metrics/_classification.py:1565: UndefinedMetricWarning: Precision is ill-defined and being set to 0.0 in labels with no predicted samples. Use `zero_division` parameter to control this behavior.\n",
            "  _warn_prf(average, modifier, f\"{metric.capitalize()} is\", len(result))\n",
            "/usr/local/lib/python3.11/dist-packages/sklearn/metrics/_classification.py:1565: UndefinedMetricWarning: Precision is ill-defined and being set to 0.0 in labels with no predicted samples. Use `zero_division` parameter to control this behavior.\n",
            "  _warn_prf(average, modifier, f\"{metric.capitalize()} is\", len(result))\n"
          ]
        }
      ]
    },
    {
      "cell_type": "code",
      "metadata": {
        "colab": {
          "base_uri": "https://localhost:8080/"
        },
        "id": "85290f9e",
        "outputId": "eb8eedc5-67fc-4f24-f0d8-4fe4a052e291"
      },
      "source": [
        "from sklearn.ensemble import RandomForestClassifier\n",
        "\n",
        "# Create and train the Random Forest model\n",
        "rf = RandomForestClassifier(random_state=42)\n",
        "rf.fit(X_train, y_train)\n",
        "\n",
        "# Predict on the test set\n",
        "y_pred_rf = rf.predict(X_test)\n",
        "\n",
        "# Evaluate the model\n",
        "print(\"Confusion Matrix:\")\n",
        "print(confusion_matrix(y_test, y_pred_rf))\n",
        "print(\"\\nClassification Report:\")\n",
        "print(classification_report(y_test, y_pred_rf))"
      ],
      "execution_count": null,
      "outputs": [
        {
          "output_type": "stream",
          "name": "stdout",
          "text": [
            "Confusion Matrix:\n",
            "[[97  2]\n",
            " [11 87]]\n",
            "\n",
            "Classification Report:\n",
            "              precision    recall  f1-score   support\n",
            "\n",
            "           0       0.90      0.98      0.94        99\n",
            "           1       0.98      0.89      0.93        98\n",
            "\n",
            "    accuracy                           0.93       197\n",
            "   macro avg       0.94      0.93      0.93       197\n",
            "weighted avg       0.94      0.93      0.93       197\n",
            "\n"
          ]
        }
      ]
    },
    {
      "cell_type": "code",
      "metadata": {
        "colab": {
          "base_uri": "https://localhost:8080/"
        },
        "id": "c3a6ea45",
        "outputId": "0dfadc3c-1d99-4345-9833-1e9f9403d786"
      },
      "source": [
        "from sklearn.metrics import accuracy_score\n",
        "\n",
        "# Accuracy on training data\n",
        "train_accuracy = accuracy_score(y_train, rf.predict(X_train))\n",
        "print(f\"Training Accuracy: {train_accuracy}\")\n",
        "\n",
        "# Accuracy on test data\n",
        "test_accuracy = accuracy_score(y_test, y_pred_rf)\n",
        "print(f\"Test Accuracy: {test_accuracy}\")"
      ],
      "execution_count": null,
      "outputs": [
        {
          "output_type": "stream",
          "name": "stdout",
          "text": [
            "Training Accuracy: 1.0\n",
            "Test Accuracy: 0.934010152284264\n"
          ]
        }
      ]
    }
  ]
}